{
 "cells": [
  {
   "cell_type": "code",
   "execution_count": 6,
   "metadata": {},
   "outputs": [],
   "source": [
    "# implement this function\n",
    "def multiples_of_3_and_5(n):\n",
    "    sum = 0\n",
    "    for x in range(n):\n",
    "        if x % 3 == 0 or x % 5 == 0:\n",
    "            sum += x\n",
    "    return sum\n",
    "    pass\n",
    "\n",
    "# (3 points)\n",
    "def test2():\n",
    "    tc = unittest.TestCase()\n",
    "    tc.assertEqual(multiples_of_3_and_5(10), 23)\n",
    "    tc.assertEqual(multiples_of_3_and_5(500), 57918)\n",
    "    tc.assertEqual(multiples_of_3_and_5(1000), 233168)"
   ]
  },
  {
   "cell_type": "code",
   "execution_count": 8,
   "metadata": {},
   "outputs": [],
   "source": [
    "# implement this function\n",
    "def is_perfect(n):\n",
    "    sum = 0\n",
    "    for x in range(1,n):\n",
    "        if n%x == 0:\n",
    "            sum += x\n",
    "    if sum == n:\n",
    "        return True\n",
    "    return False\n",
    "    pass\n",
    "\n",
    "# (3 points)\n",
    "def test1():\n",
    "    tc = unittest.TestCase()\n",
    "    for n in (6, 28, 496):\n",
    "        tc.assertTrue(is_perfect(n), '{} should be perfect'.format(n))\n",
    "    for n in (1, 2, 3, 4, 5, 10, 20):\n",
    "        tc.assertFalse(is_perfect(n), '{} should not be perfect'.format(n))\n",
    "    for n in range(30, 450):\n",
    "        tc.assertFalse(is_perfect(n), '{} should not be perfect'.format(n))"
   ]
  },
  {
   "cell_type": "code",
   "execution_count": null,
   "metadata": {},
   "outputs": [],
   "source": []
  },
  {
   "cell_type": "code",
   "execution_count": null,
   "metadata": {},
   "outputs": [],
   "source": []
  }
 ],
 "metadata": {
  "kernelspec": {
   "display_name": "Python 3",
   "language": "python",
   "name": "python3"
  },
  "language_info": {
   "codemirror_mode": {
    "name": "ipython",
    "version": 3
   },
   "file_extension": ".py",
   "mimetype": "text/x-python",
   "name": "python",
   "nbconvert_exporter": "python",
   "pygments_lexer": "ipython3",
   "version": "3.8.5"
  }
 },
 "nbformat": 4,
 "nbformat_minor": 4
}
